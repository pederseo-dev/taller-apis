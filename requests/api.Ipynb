{
 "cells": [
  {
   "cell_type": "code",
   "execution_count": 2,
   "id": "6d34406a",
   "metadata": {},
   "outputs": [
    {
     "name": "stdout",
     "output_type": "stream",
     "text": [
      "Imagen aleatoria de un gato: https://cdn2.thecatapi.com/images/6gc.jpg\n"
     ]
    }
   ],
   "source": [
    "# metodo GET\n",
    "\n",
    "import requests\n",
    "\n",
    "url = \"https://api.thecatapi.com/v1/images/search\"\n",
    "\n",
    "response = requests.get(url)\n",
    "\n",
    "if response.status_code == 200:\n",
    "    data = response.json()\n",
    "    print(\"Imagen aleatoria de un gato:\", data[0][\"url\"])\n",
    "else:\n",
    "    print(\"Error:\", response.status_code)"
   ]
  },
  {
   "cell_type": "code",
   "execution_count": 5,
   "id": "ac5523ef",
   "metadata": {},
   "outputs": [
    {
     "name": "stdout",
     "output_type": "stream",
     "text": [
      "[{'id': '442', 'url': 'https://cdn2.thecatapi.com/images/442.gif', 'width': 498, 'height': 258}, {'id': '4i6', 'url': 'https://cdn2.thecatapi.com/images/4i6.gif', 'width': 450, 'height': 272}, {'id': '4mg', 'url': 'https://cdn2.thecatapi.com/images/4mg.gif', 'width': 480, 'height': 360}, {'id': '4nd', 'url': 'https://cdn2.thecatapi.com/images/4nd.gif', 'width': 400, 'height': 248}, {'id': '4q6', 'url': 'https://cdn2.thecatapi.com/images/4q6.gif', 'width': 300, 'height': 151}, {'id': '4rc', 'url': 'https://cdn2.thecatapi.com/images/4rc.gif', 'width': 500, 'height': 274}, {'id': '7vc', 'url': 'https://cdn2.thecatapi.com/images/7vc.gif', 'width': 225, 'height': 174}, {'id': '806', 'url': 'https://cdn2.thecatapi.com/images/806.gif', 'width': 115, 'height': 75}, {'id': 'da7', 'url': 'https://cdn2.thecatapi.com/images/da7.gif', 'width': 499, 'height': 281}, {'id': 'MTYzMzcxNg', 'url': 'https://cdn2.thecatapi.com/images/MTYzMzcxNg.gif', 'width': 350, 'height': 206}]\n"
     ]
    }
   ],
   "source": [
    "# metodo GET con parametros\n",
    "\n",
    "params = {\n",
    "    \"limit\": 3,    # Número de imágenes\n",
    "    \"mime_types\": \"gif\"  # Filtrar por formato\n",
    "}\n",
    "\n",
    "response = requests.get(url, params=params)\n",
    "\n",
    "print(response.json())\n"
   ]
  },
  {
   "cell_type": "code",
   "execution_count": 6,
   "id": "6cdb2805",
   "metadata": {},
   "outputs": [
    {
     "name": "stdout",
     "output_type": "stream",
     "text": [
      "Total de razas: 67\n",
      "Ejemplo: Abyssinian\n"
     ]
    }
   ],
   "source": [
    "# metodo GET con headers\n",
    "\n",
    "breeds_url = \"https://api.thecatapi.com/v1/breeds\"\n",
    "\n",
    "headers = {\"x-api-key\": \"TU_API_KEY\"}\n",
    "\n",
    "response = requests.get(breeds_url, headers=headers)\n",
    "\n",
    "if response.status_code == 200:\n",
    "    print(\"Total de razas:\", len(response.json()))\n",
    "    print(\"Ejemplo:\", response.json()[0][\"name\"])\n"
   ]
  },
  {
   "cell_type": "code",
   "execution_count": 9,
   "id": "7a416d43",
   "metadata": {},
   "outputs": [
    {
     "name": "stdout",
     "output_type": "stream",
     "text": [
      "Resultado: 201 {'message': 'SUCCESS', 'id': 1302920, 'image_id': 'abc123', 'value': 1, 'country_code': 'PY'}\n"
     ]
    }
   ],
   "source": [
    "# metodo POST\n",
    "\n",
    "vote_url = \"https://api.thecatapi.com/v1/votes\"\n",
    "headers = {\n",
    "    \"x-api-key\": \"live_4wAzpg9xQMwZfcpLPVeML5tyV1YCGBBgHPyFE7fU823zZVwaaKdu6ABT6Egv05wC\",\n",
    "    \"Content-Type\": \"application/json\"\n",
    "}\n",
    "\n",
    "payload = {\n",
    "    \"image_id\": \"abc123\",  # ID de una imagen obtenida en el paso anterior\n",
    "    \"value\": 1             # 1 = me gusta, 0 = no me gusta\n",
    "}\n",
    "\n",
    "response = requests.post(vote_url, json=payload, headers=headers)\n",
    "\n",
    "print(\"Resultado:\", response.status_code, response.json())\n"
   ]
  },
  {
   "cell_type": "code",
   "execution_count": null,
   "id": "2d2ea9ab",
   "metadata": {},
   "outputs": [
    {
     "name": "stdout",
     "output_type": "stream",
     "text": [
      "[{'id': 1302920, 'image_id': 'abc123', 'sub_id': None, 'created_at': '2025-08-06T13:50:45.000Z', 'value': 1, 'country_code': 'PY', 'image': {}}]\n"
     ]
    }
   ],
   "source": [
    "# metodo GET\n",
    "\n",
    "votes_url = \"https://api.thecatapi.com/v1/votes\"\n",
    "headers = {\n",
    "    \"x-api-key\": \"live_4wAzpg9xQMwZfcpLPVeML5tyV1YCGBBgHPyFE7fU823zZVwaaKdu6ABT6Egv05wC\",\n",
    "    \"Content-Type\": \"application/json\"\n",
    "}\n",
    "\n",
    "response = requests.get(votes_url, headers=headers)\n",
    "print(response.json())\n"
   ]
  }
 ],
 "metadata": {
  "kernelspec": {
   "display_name": "venv",
   "language": "python",
   "name": "python3"
  },
  "language_info": {
   "codemirror_mode": {
    "name": "ipython",
    "version": 3
   },
   "file_extension": ".py",
   "mimetype": "text/x-python",
   "name": "python",
   "nbconvert_exporter": "python",
   "pygments_lexer": "ipython3",
   "version": "3.13.5"
  }
 },
 "nbformat": 4,
 "nbformat_minor": 5
}
